{
 "cells": [
  {
   "cell_type": "markdown",
   "id": "9bb031a9",
   "metadata": {},
   "source": [
    "# Introduction\n",
    "\n",
    "In this notebook, we analyze a dataset of football players to uncover insights related to player attributes, country statistics, and preferred positions. The dataset includes various attributes such as player age, nationality, and skills ratings. Our goals are to:\n",
    "\n",
    "#### 1. Clean and preprocess the data.\n",
    "#### 2. Perform exploratory data analysis (EDA).\n",
    "#### 3. Answer specific analytical questions based on the dataset.\n",
    "\n",
    "\n"
   ]
  },
  {
   "cell_type": "markdown",
   "id": "ed0ffbf1",
   "metadata": {},
   "source": [
    "# Data Loading and Preprocessing\n",
    "### Load the Dataset\n",
    "We'll start by loading the dataset and handling any encoding issues to ensure proper reading of the data."
   ]
  },
  {
   "cell_type": "code",
   "execution_count": null,
   "id": "07ca2621",
   "metadata": {},
   "outputs": [],
   "source": [
    "import pandas as pd\n",
    "\n",
    "# Try reading with different encodings\n",
    "try:\n",
    "    df = pd.read_csv('football_players.csv', encoding='ISO-8859-1')\n",
    "except UnicodeDecodeError:\n",
    "    df = pd.read_csv('football_players.csv', encoding='cp1252')\n",
    "\n",
    "# Display the first few rows\n",
    "print(df.head())\n"
   ]
  },
  {
   "cell_type": "markdown",
   "id": "6c5ab0af",
   "metadata": {},
   "source": [
    "## Data Cleaning\n",
    "We'll create a new column to transform the player's age from years to decades."
   ]
  },
  {
   "cell_type": "code",
   "execution_count": null,
   "id": "ac60d8e7",
   "metadata": {},
   "outputs": [],
   "source": [
    "# Create a new column 'decades' that transforms 'Age' from years to decades\n",
    "df['decades'] = df['Age'].apply(lambda x: x / 10)"
   ]
  },
  {
   "cell_type": "markdown",
   "id": "69cd40a8",
   "metadata": {},
   "source": [
    "## Exploratory Data Analysis (EDA)\n",
    "### Identify the Highest-Rated Player from Algeria"
   ]
  },
  {
   "cell_type": "code",
   "execution_count": null,
   "id": "5823a2eb",
   "metadata": {},
   "outputs": [],
   "source": [
    "# Filter the DataFrame for players from Algeria\n",
    "algerian_players = df[df['Nationality'] == 'Algeria']\n",
    "\n",
    "# Find the player with the highest overall rating\n",
    "top_algerian_player = algerian_players.loc[algerian_players['Overall'].idxmax()]\n",
    "\n",
    "# Display the player's name and overall rating\n",
    "print(f\"The Algerian player with the highest overall rating is {top_algerian_player['Name']} with an overall rating of {top_algerian_player['Overall']}.\")\n"
   ]
  },
  {
   "cell_type": "markdown",
   "id": "7495ceb3",
   "metadata": {},
   "source": [
    "### Highest Rating for 'Sliding Tackle' Among Backs"
   ]
  },
  {
   "cell_type": "code",
   "execution_count": null,
   "id": "73de5401",
   "metadata": {},
   "outputs": [],
   "source": [
    "# List of typical back positions\n",
    "back_positions = ['CB', 'RB', 'LB', 'RWB', 'LWB']\n",
    "\n",
    "# Filter the DataFrame for players whose preferred position includes any of the back positions\n",
    "back_players = df[df['Preferred Positions'].str.contains('|'.join(back_positions))]\n",
    "\n",
    "# Find the player with the highest Sliding tackle rating\n",
    "top_back_player = back_players.loc[back_players['Sliding tackle'].idxmax()]\n",
    "\n",
    "# Display the player's name and sliding tackle rating\n",
    "print(f\"The back with the highest rating for Sliding tackle is {top_back_player['Name']} with a rating of {top_back_player['Sliding tackle']}.\")\n"
   ]
  },
  {
   "cell_type": "markdown",
   "id": "e024140c",
   "metadata": {},
   "source": [
    "### Preferred Position Type with the Highest Average Rating for England"
   ]
  },
  {
   "cell_type": "code",
   "execution_count": null,
   "id": "fd13bcbf",
   "metadata": {},
   "outputs": [],
   "source": [
    "# Filter for England players\n",
    "england_players = df[df['Nationality'] == 'England']\n",
    "\n",
    "# Group by Preferred Position Type and calculate the average Overall rating\n",
    "average_ratings = england_players.groupby('Preferred Positions Type')['Overall'].mean()\n",
    "\n",
    "# Find the Preferred Position Type with the highest average Overall rating\n",
    "highest_avg_position_type = average_ratings.idxmax()\n",
    "highest_avg_rating = average_ratings.max()\n",
    "\n",
    "print(highest_avg_position_type)"
   ]
  },
  {
   "cell_type": "markdown",
   "id": "74f04713",
   "metadata": {},
   "source": [
    "### Comparing Average Ratings of Forwards and Backs in Brazil"
   ]
  },
  {
   "cell_type": "code",
   "execution_count": null,
   "id": "031b7751",
   "metadata": {},
   "outputs": [],
   "source": [
    "# Filter for Brazil players\n",
    "brazil_players = df[df['Nationality'] == 'Brazil']\n",
    "\n",
    "# Separate into forwards and backs\n",
    "forwards = brazil_players[brazil_players['Preferred Positions Type'] == 'Forward']\n",
    "backs = brazil_players[brazil_players['Preferred Positions Type'] == 'Back']\n",
    "\n",
    "# Calculate average overall rating for each type\n",
    "avg_overall_forward = forwards['Overall'].mean()\n",
    "avg_overall_back = backs['Overall'].mean()\n",
    "\n",
    "# Compare the averages\n",
    "print(f\"Average Overall Rating for Forwards: {avg_overall_forward}\")\n",
    "print(f\"Average Overall Rating for Backs: {avg_overall_back}\")\n",
    "\n",
    "# Check if forwards have a higher average rating\n",
    "if avg_overall_forward > avg_overall_back:\n",
    "    print(\"Brazil's forwards have a higher average overall rating than the backs.\")\n",
    "else:\n",
    "    print(\"Brazil's backs have a higher average overall rating than the forwards.\")\n"
   ]
  },
  {
   "cell_type": "markdown",
   "id": "c8a36773",
   "metadata": {},
   "source": [
    "### Country with the Oldest Player"
   ]
  },
  {
   "cell_type": "code",
   "execution_count": null,
   "id": "89aa38cb",
   "metadata": {},
   "outputs": [],
   "source": [
    "# Find the maximum age in the dataset\n",
    "max_age = df['Age'].max()\n",
    "\n",
    "# Filter the dataset to get players with the maximum age\n",
    "oldest_players = df[df['Age'] == max_age]\n",
    "\n",
    "# Display the information about the oldest player(s)\n",
    "print(\"Player(s) with the oldest age:\")\n",
    "print(oldest_players[['Name', 'Age', 'Nationality']])\n"
   ]
  },
  {
   "cell_type": "markdown",
   "id": "9e589cee",
   "metadata": {},
   "source": [
    "### Attribute with the Lowest Average for Goalkeepers"
   ]
  },
  {
   "cell_type": "code",
   "execution_count": null,
   "id": "a5623b95",
   "metadata": {},
   "outputs": [],
   "source": [
    "# Filter the dataset to include only goalkeepers\n",
    "goalkeepers = df[df['Preferred Positions Type'] == 'GoalKeeper']\n",
    "\n",
    "# Calculate the average for each goalkeeper attribute\n",
    "average_gk_handling = goalkeepers['GK handling'].mean()\n",
    "average_gk_kicking = goalkeepers['GK kicking'].mean()\n",
    "average_gk_reflexes = goalkeepers['GK reflexes'].mean()\n",
    "average_gk_diving = goalkeepers['GK diving'].mean()\n",
    "\n",
    "# Print the average values\n",
    "print(f\"Average GK handling: {average_gk_handling}\")\n",
    "print(f\"Average GK kicking: {average_gk_kicking}\")\n",
    "print(f\"Average GK reflexes: {average_gk_reflexes}\")\n",
    "print(f\"Average GK diving: {average_gk_diving}\")\n",
    "\n",
    "# Find the attribute with the lowest average\n",
    "lowest_avg_attribute = min(\n",
    "    ('GK handling', average_gk_handling),\n",
    "    ('GK kicking', average_gk_kicking),\n",
    "    ('GK reflexes', average_gk_reflexes),\n",
    "    ('GK diving', average_gk_diving),\n",
    "    key=lambda x: x[1]\n",
    ")\n",
    "\n",
    "print(f\"The attribute with the lowest average for goalkeepers is: {lowest_avg_attribute[0]}\")\n"
   ]
  },
  {
   "cell_type": "markdown",
   "id": "55284bcd",
   "metadata": {},
   "source": [
    "### Preferred Position Type with Most Entries\n"
   ]
  },
  {
   "cell_type": "code",
   "execution_count": null,
   "id": "8b9ec1c9",
   "metadata": {},
   "outputs": [],
   "source": [
    "# Count the number of entries for each preferred position type\n",
    "position_counts = df['Preferred Positions Type'].value_counts()\n",
    "\n",
    "# Display the preferred position type with the most entries\n",
    "most_common_position_type = position_counts.idxmax()\n",
    "most_common_count = position_counts.max()\n",
    "\n",
    "print(f\"The preferred position type with the most entries is: {most_common_position_type}\")\n",
    "print(f\"Number of entries: {most_common_count}\")\n"
   ]
  },
  {
   "cell_type": "markdown",
   "id": "cadd1f5a",
   "metadata": {},
   "source": [
    "### Player from Portugal Younger than 25 with the Highest Rating"
   ]
  },
  {
   "cell_type": "code",
   "execution_count": null,
   "id": "cea4adcd",
   "metadata": {},
   "outputs": [],
   "source": [
    "# Filter the dataset for Portuguese players younger than 25\n",
    "portugal_young_players = df[(df['Nationality'] == 'Portugal') & (df['Age'] < 25)]\n",
    "\n",
    "# Find the player with the highest overall rating\n",
    "top_player = portugal_young_players.loc[portugal_young_players['Overall'].idxmax()]\n",
    "\n",
    "# Display the player's name and their overall rating\n",
    "print(f\"The player from Portugal younger than 25 with the highest overall rating is:\")\n",
    "print(f\"Name: {top_player['Name']}\")\n",
    "print(f\"Overall Rating: {top_player['Overall']}\")\n"
   ]
  },
  {
   "cell_type": "markdown",
   "id": "90e5ead7",
   "metadata": {},
   "source": [
    "## Conclusion\n",
    "In this analysis, we have explored various aspects of the football players dataset. We have identified key players, analyzed attributes, and examined position-specific ratings. This analysis provides insights into player performance, national averages, and positional strengths."
   ]
  }
 ],
 "metadata": {
  "kernelspec": {
   "display_name": "Python 3 (ipykernel)",
   "language": "python",
   "name": "python3"
  },
  "language_info": {
   "codemirror_mode": {
    "name": "ipython",
    "version": 3
   },
   "file_extension": ".py",
   "mimetype": "text/x-python",
   "name": "python",
   "nbconvert_exporter": "python",
   "pygments_lexer": "ipython3",
   "version": "3.11.5"
  }
 },
 "nbformat": 4,
 "nbformat_minor": 5
}
