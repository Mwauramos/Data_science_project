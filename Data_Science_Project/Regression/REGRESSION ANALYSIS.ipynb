{
 "cells": [
  {
   "cell_type": "markdown",
   "id": "0673cc9e",
   "metadata": {},
   "source": [
    "# Analyzing Rand-Dollar Exchange Rate\n",
    "\n",
    "## Overview\n",
    "This project analyzes the Rand-Dollar exchange rate using a dataset containing various economic indicators. The goal is to build regression models to predict the ZAR/USD exchange rate and explore the relationships between the exchange rate and other variables."
   ]
  },
  {
   "cell_type": "code",
   "execution_count": null,
   "id": "4385165e",
   "metadata": {
    "scrolled": true
   },
   "outputs": [],
   "source": [
    "import pandas as pd\n",
    "\n",
    "# Load the dataset\n",
    "df = pd.read_csv('rand-dollar.csv', index_col=0)\n",
    "\n",
    "# Display the first few rows of the dataset\n",
    "df.head()\n"
   ]
  },
  {
   "cell_type": "markdown",
   "id": "03c077c0",
   "metadata": {},
   "source": [
    "## Data Preparation\n"
   ]
  },
  {
   "cell_type": "code",
   "execution_count": null,
   "id": "c8bdaede",
   "metadata": {},
   "outputs": [],
   "source": [
    "# Define the target variable\n",
    "y = df['ZAR/USD']\n",
    "\n",
    "# Define the feature variables\n",
    "X = df.drop(columns=['ZAR/USD'])\n",
    "\n",
    "# Split the data into training and testing sets\n",
    "from sklearn.model_selection import train_test_split\n",
    "\n",
    "X_train, X_test, y_train, y_test = train_test_split(X, y, test_size=0.2, shuffle=False)\n"
   ]
  },
  {
   "cell_type": "markdown",
   "id": "a632a19c",
   "metadata": {},
   "source": [
    "## Linear Regression Model\n"
   ]
  },
  {
   "cell_type": "code",
   "execution_count": null,
   "id": "a6ac8ab8",
   "metadata": {},
   "outputs": [],
   "source": [
    "from sklearn.linear_model import LinearRegression\n",
    "\n",
    "# Define the feature and target for the regression model\n",
    "X_train_exports = X_train[['Value of Exports (ZAR)']]\n",
    "X_test_exports = X_test[['Value of Exports (ZAR)']]\n",
    "\n",
    "# Initialize the Linear Regression model\n",
    "lm = LinearRegression()\n",
    "\n",
    "# Train the model\n",
    "lm.fit(X_train_exports, y_train)\n",
    "\n",
    "# Predict on the test set\n",
    "from sklearn.metrics import mean_squared_error, r2_score\n",
    "\n",
    "y_pred = lm.predict(X_test_exports)\n",
    "\n",
    "# Calculate R-squared and Mean Squared Error\n",
    "r2 = r2_score(y_test, y_pred)\n",
    "mse = mean_squared_error(y_test, y_pred)\n",
    "\n",
    "print(f'R-squared: {r2}')\n",
    "print(f'Mean Squared Error: {mse}')\n"
   ]
  },
  {
   "cell_type": "markdown",
   "id": "4cb456f7",
   "metadata": {},
   "source": [
    "## Ridge and Lasso Regression\n",
    "\n",
    "### 1. Ridge Regression\n"
   ]
  },
  {
   "cell_type": "code",
   "execution_count": null,
   "id": "2049e802",
   "metadata": {},
   "outputs": [],
   "source": [
    "from sklearn.linear_model import Ridge\n",
    "from sklearn.preprocessing import StandardScaler\n",
    "\n",
    "# Standardize the features\n",
    "scaler = StandardScaler()\n",
    "X_standardized = scaler.fit_transform(X)\n",
    "\n",
    "# Split the data into training and testing sets (80/20 split, chronologically)\n",
    "X_train, X_test, y_train, y_test = train_test_split(X_standardized, y, test_size=0.2, shuffle=False)\n",
    "\n",
    "# Initialize and train the Ridge regression model\n",
    "ridge_model = Ridge()\n",
    "ridge_model.fit(X_train, y_train)\n",
    "\n",
    "# Predict on the training set\n",
    "y_train_pred = ridge_model.predict(X_train)\n",
    "\n",
    "# Calculate training MSE for the Ridge model\n",
    "training_mse_ridge = mean_squared_error(y_train, y_train_pred)\n",
    "\n",
    "print(f'Training MSE for Ridge model: {training_mse_ridge}')\n"
   ]
  },
  {
   "cell_type": "markdown",
   "id": "190da64a",
   "metadata": {},
   "source": [
    "### 2. Lasso Regression\n",
    "\n"
   ]
  },
  {
   "cell_type": "code",
   "execution_count": null,
   "id": "7587be98",
   "metadata": {},
   "outputs": [],
   "source": [
    "from sklearn.linear_model import Lasso\n",
    "\n",
    "# Initialize and train the LASSO regression model with alpha=0.01\n",
    "lasso_model = Lasso(alpha=0.01)\n",
    "lasso_model.fit(X_train, y_train)\n",
    "\n",
    "# Predict on the training set\n",
    "y_train_pred_lasso = lasso_model.predict(X_train)\n",
    "\n",
    "# Calculate training MSE for the LASSO model\n",
    "training_mse_lasso = mean_squared_error(y_train, y_train_pred_lasso)\n",
    "\n",
    "print(f'Training MSE for LASSO model: {training_mse_lasso}')\n"
   ]
  },
  {
   "cell_type": "markdown",
   "id": "afeddd08",
   "metadata": {},
   "source": [
    "## Correlation Analysis\n"
   ]
  },
  {
   "cell_type": "code",
   "execution_count": null,
   "id": "1f72c3a9",
   "metadata": {},
   "outputs": [],
   "source": [
    "# Calculate correlations\n",
    "correlations = df.corr()\n",
    "\n",
    "# Display the correlation matrix\n",
    "print(correlations)\n",
    "\n",
    "# Find correlations with the target variable 'ZAR/USD'\n",
    "target_correlation = correlations['ZAR/USD']\n",
    "\n",
    "# Display correlations with 'ZAR/USD'\n",
    "print('Correlations with ZAR/USD:')\n",
    "print(target_correlation)\n",
    "\n",
    "# Find the variable with the weakest and strongest correlations\n",
    "weakest_correlation = target_correlation.drop('ZAR/USD').idxmin()\n",
    "weakest_correlation_value = target_correlation[weakest_correlation]\n",
    "\n",
    "strongest_correlation = target_correlation.drop('ZAR/USD').idxmax()\n",
    "strongest_correlation_value = target_correlation[strongest_correlation]\n",
    "\n",
    "print(f'The variable with the weakest linear relationship with ZAR/USD is: {weakest_correlation}')\n",
    "print(f'Correlation value: {weakest_correlation_value}')\n",
    "print(f'The variable with the strongest linear relationship with ZAR/USD is: {strongest_correlation}')\n",
    "print(f'Correlation value: {strongest_correlation_value}')\n"
   ]
  },
  {
   "cell_type": "markdown",
   "id": "fbf6093d",
   "metadata": {},
   "source": [
    "## Predictions and Evaluation\n",
    "\n",
    "### 1. Predicted Value for Exports of R100,000\n"
   ]
  },
  {
   "cell_type": "code",
   "execution_count": null,
   "id": "64c8be92",
   "metadata": {},
   "outputs": [],
   "source": [
    "# Output the slope and intercept of the model\n",
    "slope = lm.coef_[0]\n",
    "intercept = lm.intercept_\n",
    "\n",
    "# Predicted value for exports of R100,000\n",
    "value_of_exports = 100000\n",
    "predicted_exchange_rate = intercept + (slope * value_of_exports)\n",
    "print(f'Predicted exchange rate for R100,000 exports: {predicted_exchange_rate}')\n"
   ]
  },
  {
   "cell_type": "markdown",
   "id": "d3342399",
   "metadata": {},
   "source": [
    "### 2. Predicted Value for August 2017\n",
    "\n"
   ]
  },
  {
   "cell_type": "code",
   "execution_count": null,
   "id": "9cddd27c",
   "metadata": {},
   "outputs": [],
   "source": [
    "# Predict for August 2017\n",
    "august_2017_exports = 103199.17\n",
    "predicted_aug_2017 = lm.predict([[august_2017_exports]])[0]\n",
    "actual_value = 13.23\n",
    "absolute_error = abs(predicted_aug_2017 - actual_value)\n",
    "print(f\"Predicted value for August 2017: {predicted_aug_2017}\")\n",
    "print(f\"Absolute Error for August 2017: {absolute_error}\")\n"
   ]
  },
  {
   "cell_type": "markdown",
   "id": "159ba084",
   "metadata": {},
   "source": [
    "## Visualizations\n",
    "\n",
    "### 1. Correlation Matrix\n",
    "To better understand the relationships between the variables in our dataset, we plotted a correlation matrix. This visualization allows us to see how strongly each feature is correlated with the ZAR/USD exchange rate and with each other. Higher correlation values (both positive and negative) indicate stronger relationships.\n"
   ]
  },
  {
   "cell_type": "code",
   "execution_count": null,
   "id": "a2358fa8",
   "metadata": {},
   "outputs": [],
   "source": [
    "import matplotlib.pyplot as plt\n",
    "import seaborn as sns\n",
    "\n",
    "# Plotting the correlation matrix\n",
    "plt.figure(figsize=(12, 10))\n",
    "sns.heatmap(correlations, annot=True, fmt='.2f', cmap='coolwarm')\n",
    "plt.title('Correlation Matrix')\n",
    "plt.show()\n"
   ]
  },
  {
   "cell_type": "markdown",
   "id": "0e68c26d",
   "metadata": {},
   "source": [
    "###  2. Actual vs. Predicted Values\n",
    "To evaluate the performance of our Linear Regression model, we visualized the actual vs. predicted ZAR/USD exchange rates over the test period. This plot allows us to visually assess how well our model's predictions align with the actual exchange rates."
   ]
  },
  {
   "cell_type": "code",
   "execution_count": null,
   "id": "a5794581",
   "metadata": {},
   "outputs": [],
   "source": [
    "# Visualizing actual vs. predicted values\n",
    "plt.figure(figsize=(10, 6))\n",
    "plt.plot(y_test.values, label='Actual Values')\n",
    "plt.plot(y_pred, label='Predicted Values', linestyle='--')\n",
    "plt.legend()\n",
    "plt.title('Actual vs. Predicted ZAR/USD Exchange Rates')\n",
    "plt.xlabel('Time')\n",
    "plt.ylabel('ZAR/USD')\n",
    "plt.show()\n"
   ]
  },
  {
   "cell_type": "markdown",
   "id": "642e8742",
   "metadata": {},
   "source": [
    "## Conclusion\n",
    "In this project, we aimed to predict the ZAR/USD exchange rate using various economic indicators. The key steps included data loading, initial exploration, data preparation, model training, evaluation, and visualization.\n",
    "\n",
    "## Key Findings:\n",
    "Correlation Analysis: The correlation matrix revealed that certain economic indicators have a strong linear relationship with the ZAR/USD exchange rate. Specifically, the 'Value of Exports (ZAR)' showed a significant correlation.\n",
    "Model Performance: Our Linear Regression model performed reasonably well, with a satisfactory R-squared value and Mean Squared Error. However, there is room for improvement.\n",
    "Ridge and Lasso Regression: Implementing Ridge and Lasso regression models provided additional insights into the robustness and performance of regularization techniques. Both models showed promise but require further hyperparameter tuning to optimize performance."
   ]
  }
 ],
 "metadata": {
  "kernelspec": {
   "display_name": "Python 3 (ipykernel)",
   "language": "python",
   "name": "python3"
  },
  "language_info": {
   "codemirror_mode": {
    "name": "ipython",
    "version": 3
   },
   "file_extension": ".py",
   "mimetype": "text/x-python",
   "name": "python",
   "nbconvert_exporter": "python",
   "pygments_lexer": "ipython3",
   "version": "3.11.5"
  }
 },
 "nbformat": 4,
 "nbformat_minor": 5
}
