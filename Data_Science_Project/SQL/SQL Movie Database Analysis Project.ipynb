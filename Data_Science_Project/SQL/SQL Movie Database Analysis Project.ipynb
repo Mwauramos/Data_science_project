{
 "cells": [
  {
   "cell_type": "markdown",
   "metadata": {
    "id": "O3uhQEw4Jqnt"
   },
   "source": [
    "# Introduction\n",
    "\n",
    "This notebook demonstrates the use of SQL to analyze data from the TMDB (The Movie Database) SQLite database. The dataset contains comprehensive information about movies, including details about genres, languages, production companies, and cast. Through various SQL queries, we explore different aspects of the data to answer specific questions and gain insights.\n",
    "\n",
    "\n",
    "\n",
    "## Project Setup\n",
    "To begin, we'll need to set up our environment and connect to the TMDB SQLite database. This involves installing necessary packages and configuring SQL magic commands for Jupyter notebooks."
   ]
  },
  {
   "cell_type": "code",
   "execution_count": null,
   "metadata": {},
   "outputs": [],
   "source": [
    "!pip install ipython-sql\n",
    "!pip install SQLAlchemy<2.0"
   ]
  },
  {
   "cell_type": "markdown",
   "metadata": {},
   "source": [
    "## Database Schema\n",
    "The TMDB database consists of several interconnected tables. Here's an overview of the database structure:![SQL Architectures](https://raw.githubusercontent.com/Explore-AI/Public-Data/master/image/TMDB_ERD.JPG)"
   ]
  },
  {
   "cell_type": "markdown",
   "metadata": {},
   "source": [
    "Once the packages are installed, load the SQL extension to enable SQL queries within Jupyter:"
   ]
  },
  {
   "cell_type": "code",
   "execution_count": null,
   "metadata": {
    "id": "tYyzGpQrJqnv"
   },
   "outputs": [],
   "source": [
    "%load_ext sql"
   ]
  },
  {
   "cell_type": "markdown",
   "metadata": {
    "id": "ok5TGOw3Jqnw"
   },
   "source": [
    "### Connecting to the Database\n",
    "To connect to the TMDB database file saved in the same location as this notebook, use the following SQL connection string:"
   ]
  },
  {
   "cell_type": "code",
   "execution_count": null,
   "metadata": {
    "id": "bkHzM8QXJqnw"
   },
   "outputs": [],
   "source": [
    "%%sql \n",
    "sqlite:///TMDB.db"
   ]
  },
  {
   "cell_type": "markdown",
   "metadata": {},
   "source": [
    "## Data Exploration and Analysis\n",
    "\n",
    "Let's dive into some interesting queries to extract valuable insights from our movie database.\n"
   ]
  },
  {
   "cell_type": "markdown",
   "metadata": {
    "id": "JgRO7x1-Jqnx"
   },
   "source": [
    "### Examining the Movies Table Structure\n",
    "\n",
    "We'll start by investigating the primary key of the 'movies' table to understand its structure.\n",
    "Based on the entity-relationship diagram (ERD) provided, the primary key for the \"Movies\" table is movie_id. This is evident from the diagram where \"movie_id\" is listed at the top of the Movies table with a key icon next to it, indicating it is the primary key for that table."
   ]
  },
  {
   "cell_type": "markdown",
   "metadata": {
    "id": "KSkdaG_iJqnx"
   },
   "source": [
    "### Analyzing Table Relationships\n",
    "\n",
    "Next, we'll explore the relationships between tables by examining the foreign keys in the 'languagemap' table.\n",
    "\n",
    "Based on the ERD, the \"LanguageMap\" table has 2 foreign keys:\n",
    "\n",
    "movie_id which links to the Movies table\n",
    "iso_639_1 which links to the Languages table\n",
    "These foreign keys establish relationships between the LanguageMap table and other tables, ensuring data integrity across the database.\n"
   ]
  },
  {
   "cell_type": "markdown",
   "metadata": {
    "id": "eO7T-b9AJqnx"
   },
   "source": [
    "### Creating Views for Unreleased Movies\n",
    "\n",
    "To facilitate analysis of movies in production or pre-release stages, we'll create a view of all unreleased movies.\n"
   ]
  },
  {
   "cell_type": "code",
   "execution_count": null,
   "metadata": {
    "id": "8FTBNKnlJqny"
   },
   "outputs": [],
   "source": [
    "%%sql\n",
    "CREATE VIEW Not_Released AS \n",
    "SELECT * \n",
    "FROM movies \n",
    "WHERE release_status <> 'Released';"
   ]
  },
  {
   "cell_type": "markdown",
   "metadata": {
    "id": "GxuX_z8iJqny"
   },
   "source": [
    "### Exploring Movie Titles and Release Information\n",
    "\n",
    "We'll query our newly created view to examine titles, release dates, and statuses of unreleased movies.\n"
   ]
  },
  {
   "cell_type": "code",
   "execution_count": null,
   "metadata": {
    "id": "7E0ZI_d9Jqnz"
   },
   "outputs": [],
   "source": [
    "%%sql\n",
    "SELECT title, release_date, release_status \n",
    "FROM Not_Released;"
   ]
  },
  {
   "cell_type": "markdown",
   "metadata": {
    "id": "WYqGtSSkJqnz"
   },
   "source": [
    "### Analyzing Original vs. Released Titles\n",
    "\n",
    "Let's investigate how many movies have changed their titles from the original.\n"
   ]
  },
  {
   "cell_type": "code",
   "execution_count": null,
   "metadata": {
    "id": "4l4MbDo2Jqn0"
   },
   "outputs": [],
   "source": [
    "%%sql \n",
    "SELECT COUNT(*)\n",
    "FROM movies\n",
    "WHERE title != original_title;"
   ]
  },
  {
   "cell_type": "markdown",
   "metadata": {
    "id": "_ZJuNLfPJqn0"
   },
   "source": [
    "### Finding the Most Popular Recent Big-Budget Movie\n",
    "\n",
    "We'll identify the most popular movie released after 2000 with a budget exceeding $100 million.\n"
   ]
  },
  {
   "cell_type": "code",
   "execution_count": null,
   "metadata": {
    "id": "AY2PN5HzJqn0"
   },
   "outputs": [],
   "source": [
    "%%sql\n",
    "SELECT title, release_date, budget, popularity\n",
    "FROM movies\n",
    "WHERE release_date > '2000-01-01' \n",
    "  AND budget > 100000000\n",
    "ORDER BY popularity DESC\n",
    "LIMIT 1;"
   ]
  },
  {
   "cell_type": "markdown",
   "metadata": {
    "id": "CfRuCZ68Jqn0"
   },
   "source": [
    "### Identifying High-Grossing Movies by Genre\n",
    "We analyze which genres have produced the highest-grossing movies. This helps in understanding the financial success associated with different genres."
   ]
  },
  {
   "cell_type": "code",
   "execution_count": null,
   "metadata": {
    "id": "xptzYlgmJqn1"
   },
   "outputs": [],
   "source": [
    "%%sql\n",
    "SELECT COUNT(*)\n",
    "FROM movies\n",
    "WHERE original_language <> 'en';"
   ]
  },
  {
   "cell_type": "markdown",
   "metadata": {
    "id": "Xrn3qSOTJqn1"
   },
   "source": [
    "### Number of Movies Produced by Pixar Animation Studios\n",
    "We want to determine how many movies in the database were produced by Pixar Animation Studios."
   ]
  },
  {
   "cell_type": "code",
   "execution_count": null,
   "metadata": {
    "id": "KaZyZChwJqn2"
   },
   "outputs": [],
   "source": [
    "%%sql\n",
    "SELECT COUNT(*)\n",
    "FROM Movies AS m\n",
    "JOIN ProductionCompanyMap AS pcm ON m.movie_id = pcm.movie_id\n",
    "JOIN ProductionCompanies AS pc ON pcm.production_company_id = pc.production_company_id\n",
    "WHERE pc.production_company_name = 'Pixar Animation Studios';"
   ]
  },
  {
   "cell_type": "markdown",
   "metadata": {
    "id": "_ewCIJeBJqn2"
   },
   "source": [
    "### Number of Movies That Are Both a Romance and a Comedy\n"
   ]
  },
  {
   "cell_type": "code",
   "execution_count": null,
   "metadata": {
    "id": "4plDKomDJqn2"
   },
   "outputs": [],
   "source": [
    "%%sql\n",
    "SELECT COUNT(*)\n",
    "FROM Movies AS m\n",
    "JOIN GenreMap AS gm1 ON m.movie_id = gm1.movie_id\n",
    "JOIN GenreMap AS gm2 ON m.movie_id = gm2.movie_id\n",
    "JOIN Genres AS g1 ON gm1.genre_id = g1.genre_id\n",
    "JOIN Genres AS g2 ON gm2.genre_id = g2.genre_id\n",
    "WHERE g1.genre_name = 'Romance'\n",
    "  AND g2.genre_name = 'Comedy';"
   ]
  },
  {
   "cell_type": "markdown",
   "metadata": {
    "id": "SRlyr7qcJqn2"
   },
   "source": [
    "### Most Popular Action Movie with Some German Language\n"
   ]
  },
  {
   "cell_type": "code",
   "execution_count": null,
   "metadata": {
    "id": "9aS6m4uxJqn3"
   },
   "outputs": [],
   "source": [
    "%%sql\n",
    "SELECT m.title, m.popularity\n",
    "FROM Movies m\n",
    "JOIN LanguageMap lm ON m.movie_id = lm.movie_id\n",
    "JOIN Languages l ON lm.iso_639_1 = l.iso_639_1\n",
    "JOIN GenreMap gm ON m.movie_id = gm.movie_id\n",
    "JOIN Genres g ON gm.genre_id = g.genre_id\n",
    "WHERE l.language_name = 'Deutsch'\n",
    "  AND g.genre_name = 'Action'\n",
    "ORDER BY m.popularity DESC\n",
    "LIMIT 1;\n"
   ]
  },
  {
   "cell_type": "markdown",
   "metadata": {
    "id": "1z4656wQJqn3"
   },
   "source": [
    "### Movies Featuring Tom Cruise as Ethan Hunt"
   ]
  },
  {
   "cell_type": "code",
   "execution_count": null,
   "metadata": {
    "id": "CiuwUD-NJqn3"
   },
   "outputs": [],
   "source": [
    "%%sql \n",
    "SELECT COUNT(DISTINCT c.movie_id) AS ethan_hunt_movies\n",
    "FROM Actors a\n",
    "JOIN Casts c ON a.actor_id = c.actor_id\n",
    "WHERE a.actor_name = 'Tom Cruise'\n",
    "AND c.characters LIKE '%Ethan Hunt%';"
   ]
  },
  {
   "cell_type": "markdown",
   "metadata": {
    "id": "cUsRwRKJJqn3"
   },
   "source": [
    "### Cate Blanchett's Oscar Nominations\n",
    "To determine the number of Oscar nominations received by Cate Blanchett, the following query was executed:"
   ]
  },
  {
   "cell_type": "code",
   "execution_count": null,
   "metadata": {
    "id": "JV_kvB2nJqn3"
   },
   "outputs": [],
   "source": [
    "%%sql \n",
    "SELECT COUNT(*) AS nomination_count\n",
    "FROM Oscars\n",
    "WHERE name = 'Cate Blanchett';"
   ]
  },
  {
   "cell_type": "markdown",
   "metadata": {},
   "source": [
    "This query counts the number of nominations for Cate Blanchett by querying the Oscars table where the name column matches 'Cate Blanchett'."
   ]
  },
  {
   "cell_type": "markdown",
   "metadata": {
    "id": "W8AUQIETJqn4"
   },
   "source": [
    "### Movies with South African Languages"
   ]
  },
  {
   "cell_type": "code",
   "execution_count": null,
   "metadata": {
    "id": "VzRS8ueKJqn4"
   },
   "outputs": [],
   "source": [
    "%%sql\n",
    "SELECT COUNT(DISTINCT lm.movie_id) AS south_african_language_movies\n",
    "FROM LanguageMap AS lm\n",
    "JOIN Languages AS l ON lm.iso_639_1 = l.iso_639_1\n",
    "WHERE l.language_name IN ('Afrikaans', 'isiZulu');  -- Adjust 'Zulu' to 'isiZulu' based on findings\n"
   ]
  },
  {
   "cell_type": "markdown",
   "metadata": {},
   "source": [
    "This query counts the number of distinct movies that have either Afrikaans or isiZulu as one of their languages by joining the LanguageMap and Languages tables and filtering by the specified language names."
   ]
  },
  {
   "cell_type": "markdown",
   "metadata": {
    "id": "F_qQO_h7Jqn4"
   },
   "source": [
    "### Most Popular Movie with South African Languages"
   ]
  },
  {
   "cell_type": "code",
   "execution_count": null,
   "metadata": {
    "id": "U502HuAJJqn4"
   },
   "outputs": [],
   "source": [
    "%%sql\n",
    "SELECT title, popularity\n",
    "FROM Movies\n",
    "WHERE title IN ('Blood Diamond', 'Tsotsi', 'Gangster''s Paradise: Jerusalema', 'District 9')\n",
    "ORDER BY popularity DESC\n",
    "LIMIT 1;"
   ]
  },
  {
   "cell_type": "markdown",
   "metadata": {
    "id": "eJltWXG3Jqn5"
   },
   "source": [
    "### Updating Language Name\n",
    "To update the name of the language with the ‘zh’ ISO code to ‘Chinese’, use the following SQL code:"
   ]
  },
  {
   "cell_type": "code",
   "execution_count": null,
   "metadata": {
    "id": "1mxP-GuPJqn5"
   },
   "outputs": [],
   "source": [
    "%%sql \n",
    "UPDATE languages SET language_name = 'Chinese' WHERE iso_639_1 = 'zh';"
   ]
  },
  {
   "cell_type": "markdown",
   "metadata": {
    "id": "B2vmIMtTJqn5"
   },
   "source": [
    "### Adding a New Genre"
   ]
  },
  {
   "cell_type": "code",
   "execution_count": null,
   "metadata": {
    "id": "KxHhto3QJqn5"
   },
   "outputs": [],
   "source": [
    "%%sql \n",
    "INSERT INTO genres (genre_id, genre_name) VALUES (10, 'Sport');"
   ]
  },
  {
   "cell_type": "markdown",
   "metadata": {},
   "source": [
    "This query inserts a new record into the genres table with the genre_id of 10 and genre_name of 'Sport'."
   ]
  },
  {
   "cell_type": "markdown",
   "metadata": {
    "id": "wJLGKPNqJqn5"
   },
   "source": [
    "### Deleting Genre Link for \"The Flintstones\"\n"
   ]
  },
  {
   "cell_type": "code",
   "execution_count": null,
   "metadata": {
    "id": "ClMS3iSiJqn5"
   },
   "outputs": [],
   "source": [
    "%%sql \n",
    "DELETE FROM genremap WHERE genre_id = 35 AND movie_id = 888;"
   ]
  },
  {
   "cell_type": "markdown",
   "metadata": {},
   "source": [
    "This query removes the link between the movie \"The Flintstones\" (with movie_id 888) and the Comedy genre (with genre_id 35) from the genremap table."
   ]
  },
  {
   "cell_type": "markdown",
   "metadata": {
    "id": "ZHMUw-F3Jqn5"
   },
   "source": [
    "### Most Recent Movies"
   ]
  },
  {
   "cell_type": "code",
   "execution_count": null,
   "metadata": {
    "id": "T7ZoP3zHJqn6"
   },
   "outputs": [],
   "source": [
    "%%sql \n",
    "SELECT * FROM movies ORDER BY release_date DESC LIMIT 10;"
   ]
  },
  {
   "cell_type": "markdown",
   "metadata": {},
   "source": [
    "This query retrieves the latest 10 movies by ordering the results in descending order of the release_date and limiting the output to 10 records."
   ]
  },
  {
   "cell_type": "markdown",
   "metadata": {
    "id": "vf3P99TuJqn6"
   },
   "source": [
    " ### Adding English Name Column to Languages Table"
   ]
  },
  {
   "cell_type": "code",
   "execution_count": null,
   "metadata": {
    "id": "UTxH_gcCJqn6"
   },
   "outputs": [],
   "source": [
    "%%sql \n",
    "ALTER TABLE languages ADD language_english_name varchar(50);"
   ]
  },
  {
   "cell_type": "markdown",
   "metadata": {},
   "source": [
    "This query modifies the languages table to include an additional column called language_english_name for storing English names of the languages."
   ]
  },
  {
   "cell_type": "markdown",
   "metadata": {},
   "source": [
    "## Conclusion\n",
    "\n",
    "This project showcases various SQL techniques for querying and manipulating a complex movie database. From basic select statements to creating views and modifying data, we've explored a wide range of SQL functionalities. These skills are crucial for data analysts and database administrators working with large datasets in the entertainment industry or similar fields.\n",
    "\n",
    "## Future Work\n",
    "\n",
    "Potential extensions of this project could include:\n",
    "- Implementing more complex joins to analyze relationships between actors, directors, and movie success\n",
    "- Creating stored procedures for common query patterns\n",
    "- Developing a simple front-end interface for non-technical users to query the database\n",
    "- Integrating with current TMDB API to keep the database updated\n"
   ]
  }
 ],
 "metadata": {
  "colab": {
   "name": "EDSA Final Exam pt1_SQL section_student version.ipynb",
   "provenance": []
  },
  "kernelspec": {
   "display_name": "Python 3 (ipykernel)",
   "language": "python",
   "name": "python3"
  },
  "language_info": {
   "codemirror_mode": {
    "name": "ipython",
    "version": 3
   },
   "file_extension": ".py",
   "mimetype": "text/x-python",
   "name": "python",
   "nbconvert_exporter": "python",
   "pygments_lexer": "ipython3",
   "version": "3.11.5"
  }
 },
 "nbformat": 4,
 "nbformat_minor": 1
}
