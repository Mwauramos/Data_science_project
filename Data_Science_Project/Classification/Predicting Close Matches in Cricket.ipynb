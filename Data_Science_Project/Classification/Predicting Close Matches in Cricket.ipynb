{
 "cells": [
  {
   "cell_type": "markdown",
   "id": "33fc7182",
   "metadata": {},
   "source": [
    "# Introduction\n",
    "In this project, we aim to classify close matches in cricket using a dataset of historical matches. A close match is defined as a match where the winning margin is minimal, either by runs or wickets. We use a Decision Tree Classifier to predict whether a match will be close based on several features such as the application of the Duckworth-Lewis (DL) method, the month in which the match was played, and the toss decision.\n",
    "\n",
    "## Data Loading and Initial Exploration\n",
    "First, we load the dataset and perform some initial calculations to understand the distribution of certain features."
   ]
  },
  {
   "cell_type": "code",
   "execution_count": null,
   "id": "5f6e7ec2",
   "metadata": {},
   "outputs": [],
   "source": [
    "import pandas as pd\n",
    "\n",
    "# Load the dataset\n",
    "matches = pd.read_excel('matches.xlsx')\n",
    "\n",
    "# Calculate the proportion of matches where DL method was applied\n",
    "dl_applied_matches = matches['dl_applied'].sum()\n",
    "total_matches = matches.shape[0]\n",
    "proportion_dl_applied = dl_applied_matches / total_matches\n",
    "\n",
    "print(f\"Proportion of matches where DL method was applied: {proportion_dl_applied:.4f}\")\n",
    "\n",
    "# Calculate the proportion of matches won by the team who batted first\n",
    "matches_batting_first_won = matches[matches['win_by_runs'] > 0].shape[0]\n",
    "proportion_batting_first_won = matches_batting_first_won / total_matches\n",
    "\n",
    "print(f\"Proportion of matches won by the team who batted first: {proportion_batting_first_won:.4f}\")\n",
    "\n",
    "# Create a new column to check if the match was played in April\n",
    "matches['played_in_april'] = pd.to_datetime(matches['date']).dt.month == 4\n",
    "\n",
    "# Create a new column to check if the toss winner chose to field\n",
    "matches['toss_field'] = matches['toss_decision'] == 'field'\n",
    "\n",
    "# Count the number of matches played in April\n",
    "april_games_count = matches['played_in_april'].sum()\n",
    "\n",
    "# Count the number of matches where the toss winner chose to field\n",
    "toss_field_count = matches['toss_field'].sum()\n",
    "\n",
    "print(f\"Number of April games: {april_games_count}\")\n",
    "print(f\"Number of choices to field first: {toss_field_count}\")\n"
   ]
  },
  {
   "cell_type": "markdown",
   "id": "1609f764",
   "metadata": {},
   "source": [
    "## Creating Features and Target Variable\n",
    "We create a target variable close_match to indicate whether a match was close. We also define the features played_in_april, toss_field, and dl_applied.\n"
   ]
  },
  {
   "cell_type": "code",
   "execution_count": null,
   "id": "c195a086",
   "metadata": {},
   "outputs": [],
   "source": [
    "# Create the 'close_match' target variable\n",
    "matches['close_match'] = ((matches['win_by_runs'] <= 20) & (matches['win_by_runs'] > 0)) | ((matches['win_by_wickets'] <= 4) & (matches['win_by_wickets'] > 0))\n",
    "\n",
    "# Define the features and target variable\n",
    "features = matches[['played_in_april', 'toss_field', 'dl_applied']]\n",
    "target = matches['close_match']\n",
    "\n",
    "# Convert boolean columns to integers\n",
    "features = features.astype(int)\n",
    "target = target.astype(int)\n"
   ]
  },
  {
   "cell_type": "markdown",
   "id": "02485a55",
   "metadata": {},
   "source": [
    "## Model Training and Evaluation\n",
    "We split the data into training and test sets and train a Decision Tree Classifier. We then evaluate the model's performance using accuracy and a confusion matrix."
   ]
  },
  {
   "cell_type": "code",
   "execution_count": null,
   "id": "ab6449ba",
   "metadata": {},
   "outputs": [],
   "source": [
    "from sklearn.model_selection import train_test_split\n",
    "from sklearn.tree import DecisionTreeClassifier\n",
    "from sklearn.metrics import accuracy_score, confusion_matrix\n",
    "\n",
    "# Split the data into training and test sets (75:25 split)\n",
    "X_train, X_test, y_train, y_test = train_test_split(features, target, test_size=0.25, random_state=999)\n",
    "\n",
    "# Create and train the decision tree classifier\n",
    "clf = DecisionTreeClassifier(random_state=999)\n",
    "clf.fit(X_train, y_train)\n",
    "\n",
    "# Predict on the test set\n",
    "y_pred = clf.predict(X_test)\n",
    "\n",
    "# Calculate accuracy\n",
    "accuracy = accuracy_score(y_test, y_pred)\n",
    "print(f\"Accuracy of the decision tree classifier: {accuracy:.4f}\")\n",
    "\n",
    "# Calculate the confusion matrix\n",
    "cm = confusion_matrix(y_test, y_pred)\n",
    "\n",
    "print(\"Confusion Matrix:\")\n",
    "print(cm)\n"
   ]
  },
  {
   "cell_type": "markdown",
   "id": "d1ac6321",
   "metadata": {},
   "source": [
    "## Conclusion\n",
    "In this project, we developed a model to classify close cricket matches using features related to the timing of the match, the toss decision, and the application of the DL method. The model achieved a reasonable accuracy, but there is room for improvement. Future work could include exploring more sophisticated models, performing feature engineering, and tuning hyperparameters to enhance predictive performance.\n",
    "\n",
    "By identifying the factors that contribute to close matches, teams and analysts can gain better insights into match dynamics and strategize accordingly."
   ]
  }
 ],
 "metadata": {
  "kernelspec": {
   "display_name": "Python 3 (ipykernel)",
   "language": "python",
   "name": "python3"
  },
  "language_info": {
   "codemirror_mode": {
    "name": "ipython",
    "version": 3
   },
   "file_extension": ".py",
   "mimetype": "text/x-python",
   "name": "python",
   "nbconvert_exporter": "python",
   "pygments_lexer": "ipython3",
   "version": "3.11.5"
  }
 },
 "nbformat": 4,
 "nbformat_minor": 5
}
