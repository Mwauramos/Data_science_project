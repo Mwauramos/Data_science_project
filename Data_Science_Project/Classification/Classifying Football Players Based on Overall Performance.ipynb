{
 "cells": [
  {
   "cell_type": "markdown",
   "id": "663407d7",
   "metadata": {},
   "source": [
    "# Introduction\n",
    "In this project, we classify football players into different performance categories based on their overall ratings. We use the Random Forest and K-Nearest Neighbors (KNN) classifiers to predict whether a central defender (CB) is \"World Class,\" \"Good,\" or \"Mediocre\" based on various attributes. The dataset contains multiple attributes for each player, allowing us to analyze their performance comprehensively.\n",
    "\n",
    "## Data Loading and Initial Exploration\n",
    "We start by loading the dataset and inspecting its structure to understand the available features and their types."
   ]
  },
  {
   "cell_type": "code",
   "execution_count": null,
   "id": "8038ddf6",
   "metadata": {},
   "outputs": [],
   "source": [
    "import pandas as pd\n",
    "\n",
    "# Load the dataset\n",
    "football_players = pd.read_csv('football_players.csv', encoding='ISO-8859-1')\n",
    "\n",
    "# Inspect the dataset to understand its structure\n",
    "print(football_players.head())\n",
    "print(football_players.columns)\n",
    "\n",
    "# Find the most common Overall score\n",
    "most_common_overall = football_players['Overall'].mode()[0]\n",
    "print(f\"The most common Overall score for players in the database is: {most_common_overall}\")\n"
   ]
  },
  {
   "cell_type": "markdown",
   "id": "067e146c",
   "metadata": {},
   "source": [
    "## Classifying Central Defenders\n",
    "We focus on central defenders (CB) and classify them into performance categories based on their overall scores. We define \"World Class\" players as those with an overall score of 80 or above, \"Good\" players with scores between 70 and 79, and \"Mediocre\" players with scores below 70."
   ]
  },
  {
   "cell_type": "code",
   "execution_count": null,
   "id": "83793b98",
   "metadata": {},
   "outputs": [],
   "source": [
    "# Create a subset of central defenders\n",
    "cb_players = football_players[football_players['Preferred Positions'].str.contains('CB', na=False)]\n",
    "\n",
    "# Classify players based on overall score\n",
    "def classify_player(overall):\n",
    "    if overall >= 80:\n",
    "        return 'World Class'\n",
    "    elif 70 <= overall < 80:\n",
    "        return 'Good'\n",
    "    else:\n",
    "        return 'Mediocre'\n",
    "\n",
    "cb_players['Class'] = cb_players['Overall'].apply(classify_player)\n"
   ]
  },
  {
   "cell_type": "markdown",
   "id": "d60455f3",
   "metadata": {},
   "source": [
    "## Random Forest Classifier\n",
    "We use the Random Forest classifier to determine the most important features for predicting the performance class of central defenders.\n"
   ]
  },
  {
   "cell_type": "code",
   "execution_count": null,
   "id": "45a2a262",
   "metadata": {},
   "outputs": [],
   "source": [
    "import numpy as np\n",
    "from sklearn.ensemble import RandomForestClassifier\n",
    "from sklearn.preprocessing import LabelEncoder\n",
    "\n",
    "# Prepare features and target\n",
    "features = cb_players.select_dtypes(include=[np.number]).columns.drop('Overall')\n",
    "X = cb_players[features]\n",
    "y = cb_players['Class']\n",
    "\n",
    "# Encode the target variable\n",
    "le = LabelEncoder()\n",
    "y = le.fit_transform(y)\n",
    "\n",
    "# Create and fit the random forest model\n",
    "rf_model = RandomForestClassifier(n_estimators=500, random_state=1971)\n",
    "rf_model.fit(X, y)\n",
    "\n",
    "# Get feature importances\n",
    "importances = rf_model.feature_importances_\n",
    "feature_importances = pd.Series(importances, index=features).sort_values(ascending=False)\n",
    "\n",
    "# Print the top 5 most important features\n",
    "print(\"Top 5 most important features:\")\n",
    "print(feature_importances.head())\n"
   ]
  },
  {
   "cell_type": "markdown",
   "id": "8810317e",
   "metadata": {},
   "source": [
    "## K-Nearest Neighbors Classifier\n",
    "Next, we use the K-Nearest Neighbors classifier to predict player classes and determine the best value for k."
   ]
  },
  {
   "cell_type": "code",
   "execution_count": null,
   "id": "c6db1bf7",
   "metadata": {},
   "outputs": [],
   "source": [
    "from sklearn.model_selection import train_test_split\n",
    "from sklearn.preprocessing import StandardScaler\n",
    "from sklearn.neighbors import KNeighborsClassifier\n",
    "from sklearn.metrics import f1_score\n",
    "\n",
    "# Split the data into training and test sets\n",
    "X_train, X_test, y_train, y_test = train_test_split(X, y, test_size=0.33, random_state=911)\n",
    "\n",
    "# Scale the features\n",
    "scaler = StandardScaler()\n",
    "X_train_scaled = scaler.fit_transform(X_train)\n",
    "X_test_scaled = scaler.transform(X_test)\n",
    "\n",
    "# Function to calculate F1 scores for each class\n",
    "def calculate_f1_scores(y_true, y_pred):\n",
    "    return {\n",
    "        'World Class': f1_score(y_true, y_pred, labels=[2], average=None)[0],\n",
    "        'Good': f1_score(y_true, y_pred, labels=[1], average=None)[0]\n",
    "    }\n",
    "\n",
    "# Train and evaluate KNN models for k from 1 to 5\n",
    "results = {k: {} for k in range(1, 6)}\n",
    "for k in range(1, 6):\n",
    "    knn = KNeighborsClassifier(n_neighbors=k)\n",
    "    knn.fit(X_train_scaled, y_train)\n",
    "    y_pred = knn.predict(X_test_scaled)\n",
    "    results[k] = calculate_f1_scores(y_test, y_pred)\n",
    "\n",
    "# Find the best k for each class\n",
    "best_k_world_class = max(results, key=lambda k: results[k]['World Class'])\n",
    "best_k_good = max(results, key=lambda k: results[k]['Good'])\n",
    "\n",
    "print(f\"World Class: k={best_k_world_class}, Good: k={best_k_good}\")\n"
   ]
  },
  {
   "cell_type": "markdown",
   "id": "fdbd1b97",
   "metadata": {},
   "source": [
    "## Conclusion\n",
    "This project demonstrates the use of machine learning techniques to classify football players based on their performance. By identifying key features and optimal parameters for classification models, we can better understand what attributes contribute to a player's success as a central defender. Future work could involve exploring additional features, tuning hyperparameters further, and testing other classification algorithms to improve the model's accuracy and reliability."
   ]
  }
 ],
 "metadata": {
  "kernelspec": {
   "display_name": "Python 3 (ipykernel)",
   "language": "python",
   "name": "python3"
  },
  "language_info": {
   "codemirror_mode": {
    "name": "ipython",
    "version": 3
   },
   "file_extension": ".py",
   "mimetype": "text/x-python",
   "name": "python",
   "nbconvert_exporter": "python",
   "pygments_lexer": "ipython3",
   "version": "3.11.5"
  }
 },
 "nbformat": 4,
 "nbformat_minor": 5
}
